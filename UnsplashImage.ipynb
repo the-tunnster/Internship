{
 "cells": [
  {
   "cell_type": "code",
   "execution_count": 1,
   "metadata": {},
   "outputs": [
    {
     "name": "stdout",
     "output_type": "stream",
     "text": [
      "Defaulting to user installation because normal site-packages is not writeable\n",
      "Collecting git+https://github.com/openai/CLIP.git\n",
      "  Cloning https://github.com/openai/CLIP.git to /tmp/pip-req-build-vf2va1g9\n",
      "  Running command git clone --filter=blob:none --quiet https://github.com/openai/CLIP.git /tmp/pip-req-build-vf2va1g9\n",
      "  Resolved https://github.com/openai/CLIP.git to commit 40f5484c1c74edd83cb9cf687c6ab92b28d8b656\n",
      "  Preparing metadata (setup.py) ... \u001b[?25ldone\n",
      "\u001b[?25hRequirement already satisfied: ftfy in /home/the_tunnster/.local/lib/python3.9/site-packages (from clip==1.0) (6.1.1)\n",
      "Requirement already satisfied: regex in /home/the_tunnster/.local/lib/python3.9/site-packages (from clip==1.0) (2022.1.18)\n",
      "Requirement already satisfied: tqdm in /home/the_tunnster/.local/lib/python3.9/site-packages (from clip==1.0) (4.62.3)\n",
      "Requirement already satisfied: torch in /home/the_tunnster/.local/lib/python3.9/site-packages (from clip==1.0) (1.7.1+cu101)\n",
      "Requirement already satisfied: torchvision in /home/the_tunnster/.local/lib/python3.9/site-packages (from clip==1.0) (0.8.2+cu101)\n",
      "Requirement already satisfied: wcwidth>=0.2.5 in /home/the_tunnster/.local/lib/python3.9/site-packages (from ftfy->clip==1.0) (0.2.5)\n",
      "Requirement already satisfied: typing-extensions in /home/the_tunnster/.local/lib/python3.9/site-packages (from torch->clip==1.0) (4.0.1)\n",
      "Requirement already satisfied: numpy in /home/the_tunnster/.local/lib/python3.9/site-packages (from torch->clip==1.0) (1.22.2)\n",
      "Requirement already satisfied: pillow>=4.1.1 in /home/the_tunnster/.local/lib/python3.9/site-packages (from torchvision->clip==1.0) (9.0.1)\n",
      "Note: you may need to restart the kernel to use updated packages.\n",
      "Defaulting to user installation because normal site-packages is not writeable\n",
      "Looking in links: https://download.pytorch.org/whl/torch_stable.html\n",
      "Requirement already satisfied: torch==1.7.1+cu101 in /home/the_tunnster/.local/lib/python3.9/site-packages (1.7.1+cu101)\n",
      "Requirement already satisfied: torchvision==0.8.2+cu101 in /home/the_tunnster/.local/lib/python3.9/site-packages (0.8.2+cu101)\n",
      "Requirement already satisfied: typing-extensions in /home/the_tunnster/.local/lib/python3.9/site-packages (from torch==1.7.1+cu101) (4.0.1)\n",
      "Requirement already satisfied: numpy in /home/the_tunnster/.local/lib/python3.9/site-packages (from torch==1.7.1+cu101) (1.22.2)\n",
      "Requirement already satisfied: pillow>=4.1.1 in /home/the_tunnster/.local/lib/python3.9/site-packages (from torchvision==0.8.2+cu101) (9.0.1)\n",
      "Note: you may need to restart the kernel to use updated packages.\n"
     ]
    }
   ],
   "source": [
    "%pip install git+https://github.com/openai/CLIP.git\n",
    "%pip install torch==1.7.1+cu101 torchvision==0.8.2+cu101 -f https://download.pytorch.org/whl/torch_stable.html"
   ]
  },
  {
   "cell_type": "code",
   "execution_count": 2,
   "metadata": {},
   "outputs": [
    {
     "name": "stderr",
     "output_type": "stream",
     "text": [
      "/home/the_tunnster/.local/lib/python3.9/site-packages/torch/cuda/__init__.py:52: UserWarning: CUDA initialization: Found no NVIDIA driver on your system. Please check that you have an NVIDIA GPU and installed a driver from http://www.nvidia.com/Download/index.aspx (Triggered internally at  /pytorch/c10/cuda/CUDAFunctions.cpp:100.)\n",
      "  return torch._C._cuda_getDeviceCount() > 0\n"
     ]
    }
   ],
   "source": [
    "import clip\n",
    "import torch\n",
    "\n",
    "# Load the open CLIP model\n",
    "device = \"cuda\" if torch.cuda.is_available() else \"cpu\"\n",
    "model, preprocess = clip.load(\"ViT-B/32\", device=device)"
   ]
  },
  {
   "cell_type": "code",
   "execution_count": 3,
   "metadata": {},
   "outputs": [
    {
     "name": "stdout",
     "output_type": "stream",
     "text": [
      "mkdir: cannot create directory ‘unsplash-dataset’: File exists\n"
     ]
    }
   ],
   "source": [
    "from pathlib import Path\n",
    "\n",
    "# Create a folder for the precomputed features\n",
    "!mkdir unsplash-dataset\n",
    "\n",
    "# Download from Github Releases\n",
    "if not Path('unsplash-dataset/photo_ids.csv').exists():\n",
    "  !wget https://github.com/haltakov/natural-language-image-search/releases/download/1.0.0/photo_ids.csv -O unsplash-dataset/photo_ids.csv\n",
    "\n",
    "if not Path('unsplash-dataset/features.npy').exists():\n",
    "  !wget https://github.com/haltakov/natural-language-image-search/releases/download/1.0.0/features.npy -O unsplash-dataset/features.npy"
   ]
  },
  {
   "cell_type": "code",
   "execution_count": 4,
   "metadata": {},
   "outputs": [
    {
     "name": "stdout",
     "output_type": "stream",
     "text": [
      "Defaulting to user installation because normal site-packages is not writeable\n",
      "Requirement already satisfied: pandas in /home/the_tunnster/.local/lib/python3.9/site-packages (1.4.0)\n",
      "Requirement already satisfied: pytz>=2020.1 in /usr/lib/python3/dist-packages (from pandas) (2021.1)\n",
      "Requirement already satisfied: python-dateutil>=2.8.1 in /home/the_tunnster/.local/lib/python3.9/site-packages (from pandas) (2.8.2)\n",
      "Requirement already satisfied: numpy>=1.18.5 in /home/the_tunnster/.local/lib/python3.9/site-packages (from pandas) (1.22.2)\n",
      "Requirement already satisfied: six>=1.5 in /usr/lib/python3/dist-packages (from python-dateutil>=2.8.1->pandas) (1.16.0)\n",
      "Note: you may need to restart the kernel to use updated packages.\n",
      "Defaulting to user installation because normal site-packages is not writeable\n",
      "Requirement already satisfied: numpy in /home/the_tunnster/.local/lib/python3.9/site-packages (1.22.2)\n",
      "Note: you may need to restart the kernel to use updated packages.\n",
      "Photos loaded: 1981161\n"
     ]
    }
   ],
   "source": [
    "%pip install pandas\n",
    "%pip install numpy\n",
    "import pandas as pd\n",
    "import numpy as np\n",
    "\n",
    "# Load the photo IDs\n",
    "photo_ids = pd.read_csv(\"unsplash-dataset/photo_ids.csv\")\n",
    "photo_ids = list(photo_ids['photo_id'])\n",
    "\n",
    "# Load the features vectors\n",
    "photo_features = np.load(\"unsplash-dataset/features.npy\")\n",
    "\n",
    "# Convert features to Tensors: Float32 on CPU and Float16 on GPU\n",
    "if device == \"cpu\":\n",
    "  photo_features = torch.from_numpy(photo_features).float().to(device)\n",
    "else:\n",
    "  photo_features = torch.from_numpy(photo_features).to(device)\n",
    "\n",
    "# Print some statistics\n",
    "print(f\"Photos loaded: {len(photo_ids)}\")"
   ]
  },
  {
   "cell_type": "code",
   "execution_count": 5,
   "metadata": {},
   "outputs": [],
   "source": [
    "def encode_search_query(search_query):\n",
    "  with torch.no_grad():\n",
    "    # Encode and normalize the search query using CLIP\n",
    "    text_encoded = model.encode_text(clip.tokenize(search_query).to(device))\n",
    "    text_encoded /= text_encoded.norm(dim=-1, keepdim=True)\n",
    "\n",
    "  # Retrieve the feature vector\n",
    "  return text_encoded"
   ]
  },
  {
   "cell_type": "code",
   "execution_count": 6,
   "metadata": {},
   "outputs": [],
   "source": [
    "def find_best_matches(text_features, photo_features, photo_ids, results_count=3):\n",
    "  # Compute the similarity between the search query and each photo using the Cosine similarity\n",
    "  similarities = (photo_features @ text_features.T).squeeze(1)\n",
    "\n",
    "  # Sort the photos by their similarity score\n",
    "  best_photo_idx = (-similarities).argsort()\n",
    "\n",
    "  # Return the photo IDs of the best matches\n",
    "  return [photo_ids[i] for i in best_photo_idx[:results_count]]"
   ]
  },
  {
   "cell_type": "code",
   "execution_count": 7,
   "metadata": {},
   "outputs": [],
   "source": [
    "from IPython.display import Image\n",
    "from IPython.core.display import HTML\n",
    "\n",
    "def display_photo(photo_id):\n",
    "  # Get the URL of the photo resized to have a width of 320px\n",
    "  photo_image_url = f\"https://unsplash.com/photos/{photo_id}/download?w=320\"\n",
    "\n",
    "  # Display the photo\n",
    "  display(Image(url=photo_image_url))\n",
    "\n",
    "  # Display the attribution text\n",
    "  display(HTML(f'Photo on <a target=\"_blank\" href=\"https://unsplash.com/photos/{photo_id}\">Unsplash</a> '))\n",
    "  print()"
   ]
  },
  {
   "cell_type": "code",
   "execution_count": 8,
   "metadata": {},
   "outputs": [],
   "source": [
    "def search_unslash(search_query, photo_features, photo_ids, results_count=3):\n",
    "  # Encode the search query\n",
    "  text_features = encode_search_query(search_query)\n",
    "\n",
    "  # Find the best matches\n",
    "  best_photo_ids = find_best_matches(text_features, photo_features, photo_ids, results_count)\n",
    "\n",
    "  # Display the best photos\n",
    "  for photo_id in best_photo_ids:\n",
    "    display_photo(photo_id)"
   ]
  },
  {
   "cell_type": "code",
   "execution_count": 10,
   "metadata": {},
   "outputs": [
    {
     "data": {
      "text/html": [
       "<img src=\"https://unsplash.com/photos/2jcG8KNVYGM/download?w=320\"/>"
      ],
      "text/plain": [
       "<IPython.core.display.Image object>"
      ]
     },
     "metadata": {},
     "output_type": "display_data"
    },
    {
     "data": {
      "text/html": [
       "Photo on <a target=\"_blank\" href=\"https://unsplash.com/photos/2jcG8KNVYGM\">Unsplash</a> "
      ],
      "text/plain": [
       "<IPython.core.display.HTML object>"
      ]
     },
     "metadata": {},
     "output_type": "display_data"
    },
    {
     "name": "stdout",
     "output_type": "stream",
     "text": [
      "\n"
     ]
    },
    {
     "data": {
      "text/html": [
       "<img src=\"https://unsplash.com/photos/s_WP3LmohAg/download?w=320\"/>"
      ],
      "text/plain": [
       "<IPython.core.display.Image object>"
      ]
     },
     "metadata": {},
     "output_type": "display_data"
    },
    {
     "data": {
      "text/html": [
       "Photo on <a target=\"_blank\" href=\"https://unsplash.com/photos/s_WP3LmohAg\">Unsplash</a> "
      ],
      "text/plain": [
       "<IPython.core.display.HTML object>"
      ]
     },
     "metadata": {},
     "output_type": "display_data"
    },
    {
     "name": "stdout",
     "output_type": "stream",
     "text": [
      "\n"
     ]
    },
    {
     "data": {
      "text/html": [
       "<img src=\"https://unsplash.com/photos/DMI9p-f6vmc/download?w=320\"/>"
      ],
      "text/plain": [
       "<IPython.core.display.Image object>"
      ]
     },
     "metadata": {},
     "output_type": "display_data"
    },
    {
     "data": {
      "text/html": [
       "Photo on <a target=\"_blank\" href=\"https://unsplash.com/photos/DMI9p-f6vmc\">Unsplash</a> "
      ],
      "text/plain": [
       "<IPython.core.display.HTML object>"
      ]
     },
     "metadata": {},
     "output_type": "display_data"
    },
    {
     "name": "stdout",
     "output_type": "stream",
     "text": [
      "\n"
     ]
    }
   ],
   "source": [
    "search_query = \"what camera should i buy for youtube\"\n",
    "\n",
    "search_unslash(search_query, photo_features, photo_ids, 3)"
   ]
  }
 ],
 "metadata": {
  "interpreter": {
   "hash": "916dbcbb3f70747c44a77c7bcd40155683ae19c65e1c03b4aa3499c5328201f1"
  },
  "kernelspec": {
   "display_name": "Python 3.9.7 64-bit",
   "language": "python",
   "name": "python3"
  },
  "language_info": {
   "codemirror_mode": {
    "name": "ipython",
    "version": 3
   },
   "file_extension": ".py",
   "mimetype": "text/x-python",
   "name": "python",
   "nbconvert_exporter": "python",
   "pygments_lexer": "ipython3",
   "version": "3.9.7"
  },
  "orig_nbformat": 4
 },
 "nbformat": 4,
 "nbformat_minor": 2
}
